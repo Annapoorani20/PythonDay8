{
 "cells": [
  {
   "cell_type": "markdown",
   "metadata": {},
   "source": [
    "# Day 8\n",
    "# Project 4"
   ]
  },
  {
   "cell_type": "code",
   "execution_count": 1,
   "metadata": {},
   "outputs": [
    {
     "name": "stdout",
     "output_type": "stream",
     "text": [
      "Requirement already satisfied: firebase in c:\\users\\home\\anaconda3\\lib\\site-packages (3.0.1)\n",
      "Requirement already satisfied: requests in c:\\users\\home\\anaconda3\\lib\\site-packages (from firebase) (2.24.0)\n",
      "Requirement already satisfied: idna<3,>=2.5 in c:\\users\\home\\anaconda3\\lib\\site-packages (from requests->firebase) (2.10)\n",
      "Requirement already satisfied: chardet<4,>=3.0.2 in c:\\users\\home\\anaconda3\\lib\\site-packages (from requests->firebase) (3.0.4)\n",
      "Requirement already satisfied: certifi>=2017.4.17 in c:\\users\\home\\anaconda3\\lib\\site-packages (from requests->firebase) (2020.6.20)\n",
      "Requirement already satisfied: urllib3!=1.25.0,!=1.25.1,<1.26,>=1.21.1 in c:\\users\\home\\anaconda3\\lib\\site-packages (from requests->firebase) (1.25.9)\n"
     ]
    }
   ],
   "source": [
    "#Firebase\n",
    "!pip install firebase"
   ]
  },
  {
   "cell_type": "code",
   "execution_count": 2,
   "metadata": {},
   "outputs": [],
   "source": [
    "import firebase_admin"
   ]
  },
  {
   "cell_type": "code",
   "execution_count": 3,
   "metadata": {},
   "outputs": [],
   "source": [
    "from firebase_admin import credentials\n",
    "from firebase_admin import firestore"
   ]
  },
  {
   "cell_type": "code",
   "execution_count": 4,
   "metadata": {},
   "outputs": [
    {
     "data": {
      "text/plain": [
       "<firebase_admin.App at 0x1d70f654250>"
      ]
     },
     "execution_count": 4,
     "metadata": {},
     "output_type": "execute_result"
    }
   ],
   "source": [
    "cred = credentials.Certificate(\"project7-letsupgrade-firebase-adminsdk-787ec-aaa252e385.json\")\n",
    "firebase_admin.initialize_app(cred)"
   ]
  },
  {
   "cell_type": "code",
   "execution_count": 5,
   "metadata": {},
   "outputs": [],
   "source": [
    "db = firestore.client()"
   ]
  },
  {
   "cell_type": "code",
   "execution_count": 6,
   "metadata": {},
   "outputs": [
    {
     "data": {
      "text/plain": [
       "update_time {\n",
       "  seconds: 1608399634\n",
       "  nanos: 21832000\n",
       "}"
      ]
     },
     "execution_count": 6,
     "metadata": {},
     "output_type": "execute_result"
    }
   ],
   "source": [
    "doc_ref = db.collection(u'users').document(u'students')\n",
    "\n",
    "doc_ref.set({\n",
    "    u'first': u'Sam',\n",
    "    u'last': u'Sugan',\n",
    "    u'born': 2000\n",
    "})"
   ]
  },
  {
   "cell_type": "code",
   "execution_count": 13,
   "metadata": {},
   "outputs": [],
   "source": [
    "#Write data into Firebase DB"
   ]
  },
  {
   "cell_type": "code",
   "execution_count": 14,
   "metadata": {},
   "outputs": [],
   "source": [
    "def enterDataInDB(name,lastName,age):\n",
    "    doc_ref = db.collection(u'LetsUpgradeUsers').document()\n",
    "    \n",
    "    dit = {}\n",
    "    dit[\"firstName\"] = name\n",
    "    dit[\"lastName\"] = lastName\n",
    "    dit[\"age\"] = age\n",
    "    \n",
    "    doc_ref.set(dit)"
   ]
  },
  {
   "cell_type": "code",
   "execution_count": 15,
   "metadata": {},
   "outputs": [],
   "source": [
    "enterDataInDB(\"fari\",\"sankit\",50)"
   ]
  },
  {
   "cell_type": "code",
   "execution_count": 16,
   "metadata": {},
   "outputs": [],
   "source": [
    "enterDataInDB(\"sara\",\"raj\",35)"
   ]
  },
  {
   "cell_type": "code",
   "execution_count": 17,
   "metadata": {},
   "outputs": [],
   "source": [
    "enterDataInDB(\"mala\",\"pals\",40)"
   ]
  },
  {
   "cell_type": "code",
   "execution_count": 26,
   "metadata": {},
   "outputs": [],
   "source": [
    "enterDataInDB(\"hezi\",\"charles\",45)"
   ]
  },
  {
   "cell_type": "code",
   "execution_count": 27,
   "metadata": {},
   "outputs": [],
   "source": [
    "enterDataInDB(\"mariya\",\"joseph\",32)"
   ]
  },
  {
   "cell_type": "code",
   "execution_count": 28,
   "metadata": {},
   "outputs": [],
   "source": [
    "enterDataInDB(\"vishu\",\"kernel\",38)"
   ]
  },
  {
   "cell_type": "code",
   "execution_count": 29,
   "metadata": {},
   "outputs": [],
   "source": [
    "#Read data from Firebase DB ( Firestore )"
   ]
  },
  {
   "cell_type": "code",
   "execution_count": 30,
   "metadata": {},
   "outputs": [
    {
     "name": "stdout",
     "output_type": "stream",
     "text": [
      "ID -  0d49XQpBFDNDmHcsEmDU\n",
      "First Name -  mariya\n",
      "Last Name -  joseph\n",
      "Age -  40\n",
      "---------------\n",
      "---------------\n",
      "ID -  0sLhwVlAlNahgehbZio0\n",
      "First Name -  mala\n",
      "Last Name -  pals\n",
      "Age -  40\n",
      "---------------\n",
      "---------------\n",
      "ID -  0up2q2LKPDxw9D7Tb9Oo\n",
      "First Name -  mala\n",
      "Last Name -  pals\n",
      "Age -  40\n",
      "---------------\n",
      "---------------\n",
      "ID -  8S3vTZ2thFDynhOzea8e\n",
      "First Name -  hezi\n",
      "Last Name -  charles\n",
      "Age -  40\n",
      "---------------\n",
      "---------------\n",
      "ID -  NuJY8u1T6EnxIoibj2ud\n",
      "First Name -  vishu\n",
      "Last Name -  kernel\n",
      "Age -  38\n",
      "---------------\n",
      "---------------\n",
      "ID -  PKk4abpHv253u97OP4Me\n",
      "First Name -  sara\n",
      "Last Name -  raj\n",
      "Age -  35\n",
      "---------------\n",
      "---------------\n",
      "ID -  VfyspAXR1LOCTxOuDvUd\n",
      "First Name -  hezi\n",
      "Last Name -  charles\n",
      "Age -  45\n",
      "---------------\n",
      "---------------\n",
      "ID -  WNUyL3Y2aDFiOXLxo7SV\n",
      "First Name -  sara\n",
      "Last Name -  raj\n",
      "Age -  35\n",
      "---------------\n",
      "---------------\n",
      "ID -  YexWlg5EFujiWwAouvQT\n",
      "First Name -  seetha\n",
      "Last Name -  charle\n",
      "Age -  40\n",
      "---------------\n",
      "---------------\n",
      "ID -  fCUlIk7a8mWkiDSEVqHh\n",
      "First Name -  mariya\n",
      "Last Name -  joseph\n",
      "Age -  32\n",
      "---------------\n",
      "---------------\n",
      "ID -  jajKa3XTk9NPtbyAEKmC\n",
      "First Name -  fari\n",
      "Last Name -  sankit\n",
      "Age -  50\n",
      "---------------\n",
      "---------------\n",
      "ID -  w6cojLJxgNUXjljzxVjT\n",
      "First Name -  fari\n",
      "Last Name -  sankit\n",
      "Age -  50\n",
      "---------------\n",
      "---------------\n"
     ]
    }
   ],
   "source": [
    "docs = db.collection(u'LetsUpgradeUsers').stream()\n",
    "\n",
    "for doc in docs:\n",
    "#     print(f'{doc.id} => {doc.to_dict()}')\n",
    "    \n",
    "    print(\"ID - \", doc.id)\n",
    "    \n",
    "    print(\"First Name - \", doc.to_dict().get(\"firstName\"))\n",
    "    print(\"Last Name - \", doc.to_dict().get(\"lastName\"))\n",
    "    print(\"Age - \", doc.to_dict().get(\"age\") )\n",
    "    \n",
    "    print(\"---------------\")\n",
    "    print(\"---------------\")\n",
    "    "
   ]
  },
  {
   "cell_type": "code",
   "execution_count": null,
   "metadata": {},
   "outputs": [],
   "source": []
  }
 ],
 "metadata": {
  "kernelspec": {
   "display_name": "Python 3",
   "language": "python",
   "name": "python3"
  },
  "language_info": {
   "codemirror_mode": {
    "name": "ipython",
    "version": 3
   },
   "file_extension": ".py",
   "mimetype": "text/x-python",
   "name": "python",
   "nbconvert_exporter": "python",
   "pygments_lexer": "ipython3",
   "version": "3.8.3"
  }
 },
 "nbformat": 4,
 "nbformat_minor": 4
}
